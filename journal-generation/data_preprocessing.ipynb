{
 "cells": [
  {
   "cell_type": "code",
   "execution_count": 1,
   "id": "47a83027-2ecc-46bb-8ba8-64a170c4feca",
   "metadata": {},
   "outputs": [],
   "source": [
    "import pandas as pd"
   ]
  },
  {
   "cell_type": "code",
   "execution_count": 2,
   "id": "33502f97-2943-4545-9a20-ba912c2ecaf3",
   "metadata": {},
   "outputs": [
    {
     "name": "stdout",
     "output_type": "stream",
     "text": [
      "Combined text with start and end tokens has been saved to 'journal_text.txt'.\n"
     ]
    }
   ],
   "source": [
    "df = pd.read_csv('economic_journals_abstracts_df.csv')\n",
    "\n",
    "# Ensure there are no missing values in the 'Abstract' column\n",
    "df['Abstract'] = df['Abstract'].fillna('')\n",
    "\n",
    "# Adding start (<start>) and end (<end>) tokens to each abstract\n",
    "df['Abstract'] = '<start> ' + df['Abstract'].astype(str) + ' <end>'\n",
    "\n",
    "# Combine all abstracts into a single text with an indent (two newlines)\n",
    "combined_text = '\\n\\n'.join(df['Abstract'])\n",
    "\n",
    "# Optionally, save this combined text to a file\n",
    "with open('journal_text.txt', 'w', encoding='utf-8') as f:\n",
    "    f.write(combined_text)\n",
    "\n",
    "print(\"Combined text with start and end tokens has been saved to 'journal_text.txt'.\")"
   ]
  },
  {
   "cell_type": "code",
   "execution_count": 3,
   "id": "1917cb62-dcff-46e6-901a-524808de676e",
   "metadata": {},
   "outputs": [
    {
     "data": {
      "text/plain": [
       "'<start>  Anomalies have higher returns when they are cheap on a book-to-market (BTM) basis.  These are value-oriented, as opposed to growth oriented (expensive based on BTM).  Value orientated anomalies outperform growth-oriented ones by about 30 bp per month.  Combined value/momentum orientations further increase outperformance.  Combined outperformance of 90 bps per month, resulting in doubled Sharpe ratios Abstract We show that thirteen well-known stock market anomalies have higher future abnormal returns when they exhibit a value orientation with respect to their historical levels. We find anomalies that exhibit a value orientation (cheap) outperform anomalies that exhibit a growth orientation (expensive) going forward by about 30 basis points (bps) per month. Furthermore, we find favorable anomalies based on combined value and momentum orientations outperform unfavorable anomalies by about 90 bps per month and exhibit more than double the Sharpe ratios. Alternatively, over 96 % of the dollar return for the 13 anomalies disappears when they have negative-momentum and expensive orientations. <end>\\n\\n<start>  Abnormally high local temperature leads to elevated concern about climate change.  Loan officers in hot weather approve fewer loan applications and lower amounts.  This effect is stronger among counties more exposed to sea-level rise risk.  It is stronger when climate change attention is higher and for smaller lenders.  Tests suggest the effect is not fully explained by lower demand for mortgage. Abstract We examine whether beliefs about climate change affect loan officers’ mortgage lending decisions. We show that abnormally high local temperature leads to elevated attention to and belief in climate change in a region. Loan officers approve fewer mortgage applications and originate lower amounts of loans in abnormally warm weather. This effect is stronger among counties heavily exposed to the risk of sea-level rise, during periods of heightened public attentio'"
      ]
     },
     "execution_count": 3,
     "metadata": {},
     "output_type": "execute_result"
    }
   ],
   "source": [
    "combined_text[0:2000]"
   ]
  },
  {
   "cell_type": "code",
   "execution_count": 4,
   "id": "23d8cba4-5a7a-463f-86a4-897376f051ab",
   "metadata": {},
   "outputs": [],
   "source": [
    "with open('journal_text_two.txt', 'w', encoding='utf-8') as f:\n",
    "    f.write(combined_text[0:10000])"
   ]
  },
  {
   "cell_type": "code",
   "execution_count": null,
   "id": "dfce3e92-6180-4064-9728-f1e936808b35",
   "metadata": {},
   "outputs": [],
   "source": []
  }
 ],
 "metadata": {
  "kernelspec": {
   "display_name": "Python 3 (ipykernel)",
   "language": "python",
   "name": "python3"
  },
  "language_info": {
   "codemirror_mode": {
    "name": "ipython",
    "version": 3
   },
   "file_extension": ".py",
   "mimetype": "text/x-python",
   "name": "python",
   "nbconvert_exporter": "python",
   "pygments_lexer": "ipython3",
   "version": "3.11.6"
  }
 },
 "nbformat": 4,
 "nbformat_minor": 5
}
